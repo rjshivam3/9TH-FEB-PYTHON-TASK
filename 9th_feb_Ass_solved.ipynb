{
 "cells": [
  {
   "cell_type": "code",
   "execution_count": 1,
   "id": "0593c581-7cd9-4712-9ad6-06dcf996cce2",
   "metadata": {},
   "outputs": [],
   "source": [
    "#QUWSTION 1 SOLVED"
   ]
  },
  {
   "cell_type": "code",
   "execution_count": 2,
   "id": "01180cc0-0591-4b62-9779-e80f18b91f8a",
   "metadata": {},
   "outputs": [],
   "source": [
    "class Vehicle:\n",
    "    def __init__(self, name_of_vehicle, max_speed, average_of_vehicle):\n",
    "        self.name_of_vehicle = name_of_vehicle\n",
    "        self.max_speed = max_speed\n",
    "        self.average_of_vehicle = average_of_vehicle\n"
   ]
  },
  {
   "cell_type": "code",
   "execution_count": 3,
   "id": "3ff6b322-92ed-42fa-8ba1-c05317bf1e5b",
   "metadata": {},
   "outputs": [],
   "source": [
    "car = Vehicle(\"Bugatti chiron\", 304.773, 5.95)\n"
   ]
  },
  {
   "cell_type": "code",
   "execution_count": 7,
   "id": "5dee4237-a970-44a4-92e9-00095df7dceb",
   "metadata": {},
   "outputs": [],
   "source": [
    "#QUESTION 2 SOLVED"
   ]
  },
  {
   "cell_type": "code",
   "execution_count": 8,
   "id": "7e658d1b-61a5-423d-973b-04e9b59e1be1",
   "metadata": {},
   "outputs": [],
   "source": [
    "class Car(Vehicle):\n",
    "    def __init__(self, name_of_vehicle, max_speed, average_of_vehicle):\n",
    "        super().__init__(name_of_vehicle, max_speed, average_of_vehicle)\n",
    "\n",
    "    def seating_capacity(self, capacity):\n",
    "        return f\"{self.name_of_vehicle} has a seating capacity of {capacity} passengers\"\n"
   ]
  },
  {
   "cell_type": "code",
   "execution_count": 10,
   "id": "0e48a193-7995-414c-b6fd-87f2c7db955b",
   "metadata": {},
   "outputs": [
    {
     "name": "stdout",
     "output_type": "stream",
     "text": [
      "Bugatti chiron has a seating capacity of 2 passengers\n"
     ]
    }
   ],
   "source": [
    "car = Car(\"Bugatti chiron\", 304.773, 5.95)\n",
    "print(car.seating_capacity(2))\n"
   ]
  },
  {
   "cell_type": "code",
   "execution_count": 11,
   "id": "4aee5855-c2a4-407f-8dbf-2a8eb52201e1",
   "metadata": {},
   "outputs": [],
   "source": [
    "#QUESTION 3 SOLVED"
   ]
  },
  {
   "cell_type": "code",
   "execution_count": 12,
   "id": "a95ee32d-e1c1-4aaf-9fee-da9d3d5ba9b5",
   "metadata": {},
   "outputs": [
    {
     "name": "stdout",
     "output_type": "stream",
     "text": [
      "blue\n",
      "50\n"
     ]
    }
   ],
   "source": [
    "class Shape:\n",
    "    def __init__(self, color):\n",
    "        self.color = color\n",
    "\n",
    "    def get_color(self):\n",
    "        return self.color\n",
    "\n",
    "class Rectangle(Shape):\n",
    "    def __init__(self, color, width, height):\n",
    "        Shape.__init__(self, color)\n",
    "        self.width = width\n",
    "        self.height = height\n",
    "\n",
    "    def area(self):\n",
    "        return self.width * self.height\n",
    "\n",
    "class Square(Shape):\n",
    "    def __init__(self, color, side):\n",
    "        Shape.__init__(self, color)\n",
    "        self.side = side\n",
    "\n",
    "    def area(self):\n",
    "        return self.side ** 2\n",
    "\n",
    "class SquareRectangle(Rectangle, Square):\n",
    "    def __init__(self, color, width, height, side):\n",
    "        Rectangle.__init__(self, color, width, height)\n",
    "        Square.__init__(self, color, side)\n",
    "\n",
    "sq_rect = SquareRectangle(\"blue\", 5, 10, 6)\n",
    "print(sq_rect.get_color())\n",
    "print(sq_rect.area())\n"
   ]
  },
  {
   "cell_type": "code",
   "execution_count": 14,
   "id": "b64ec06c-8e03-42c3-9c2b-ea566b992abf",
   "metadata": {},
   "outputs": [
    {
     "name": "stdout",
     "output_type": "stream",
     "text": [
      "blue\n",
      "50\n"
     ]
    }
   ],
   "source": [
    "sq_rect = SquareRectangle(\"blue\", 5, 10, 6)\n",
    "print(sq_rect.get_color())\n",
    "print(sq_rect.area())\n"
   ]
  },
  {
   "cell_type": "code",
   "execution_count": 15,
   "id": "b5d0f5e8-27d9-4b6f-8838-fa0a7848dfe0",
   "metadata": {},
   "outputs": [],
   "source": [
    "#QUESTION 4 SOLVED"
   ]
  },
  {
   "cell_type": "code",
   "execution_count": 16,
   "id": "829ede4c-26ff-4562-a654-5a339da917d6",
   "metadata": {},
   "outputs": [
    {
     "name": "stdout",
     "output_type": "stream",
     "text": [
      "123456\n",
      "5000\n",
      "7000\n",
      "4000\n",
      "789101\n",
      "10000\n"
     ]
    }
   ],
   "source": [
    "class BankAccount:\n",
    "    def __init__(self, account_number, balance):\n",
    "        self.__account_number = account_number\n",
    "        self.__balance = balance\n",
    "\n",
    "    def get_account_number(self):\n",
    "        return self.__account_number\n",
    "\n",
    "    def set_account_number(self, account_number):\n",
    "        self.__account_number = account_number\n",
    "\n",
    "    def get_balance(self):\n",
    "        return self.__balance\n",
    "\n",
    "    def set_balance(self, balance):\n",
    "        self.__balance = balance\n",
    "\n",
    "    def deposit(self, amount):\n",
    "        self.__balance += amount\n",
    "\n",
    "    def withdraw(self, amount):\n",
    "        if amount <= self.__balance:\n",
    "            self.__balance -= amount\n",
    "        else:\n",
    "            print(\"Insufficient balance\")\n",
    "\n",
    "account = BankAccount(\"123456\", 5000)\n",
    "\n",
    "print(account.get_account_number()) \n",
    "print(account.get_balance())\n",
    "\n",
    "account.deposit(2000)\n",
    "print(account.get_balance())\n",
    "account.withdraw(3000)\n",
    "print(account.get_balance())\n",
    "\n",
    "account.set_account_number(\"789101\")\n",
    "account.set_balance(10000)\n",
    "print(account.get_account_number())\n",
    "print(account.get_balance())\n"
   ]
  },
  {
   "cell_type": "code",
   "execution_count": 17,
   "id": "23da8958-b57e-4c68-be6c-001aa6263ef9",
   "metadata": {},
   "outputs": [],
   "source": [
    "#QUESTION 5 SOLVED"
   ]
  },
  {
   "cell_type": "code",
   "execution_count": 18,
   "id": "b9322208-861e-41ed-a6ab-0c433992e301",
   "metadata": {},
   "outputs": [
    {
     "name": "stdout",
     "output_type": "stream",
     "text": [
      "Meow!\n",
      "BOOW!\n"
     ]
    }
   ],
   "source": [
    "class Animal:\n",
    "    def speak(self):\n",
    "        print(\"Animal speaking\")\n",
    "\n",
    "class Cat(Animal):\n",
    "    def speak(self):\n",
    "        print(\"Meow!\")\n",
    "\n",
    "class Dog(Animal):\n",
    "    def speak(self):\n",
    "        print(\"BOOW!\")\n",
    "\n",
    "        \n",
    "c = Cat()\n",
    "\n",
    "d = Dog()\n",
    "\n",
    "c.speak()\n",
    "\n",
    "d.speak()\n"
   ]
  },
  {
   "cell_type": "code",
   "execution_count": 19,
   "id": "618eca8e-8950-4f94-b612-7e1039136540",
   "metadata": {},
   "outputs": [
    {
     "data": {
      "text/plain": [
       "'ASSIGNMENT COMPLETED'"
      ]
     },
     "execution_count": 19,
     "metadata": {},
     "output_type": "execute_result"
    }
   ],
   "source": [
    "'''ASSIGNMENT COMPLETED'''"
   ]
  },
  {
   "cell_type": "code",
   "execution_count": null,
   "id": "8fcc870d-cb16-456f-b5d5-95fc67ea97bb",
   "metadata": {},
   "outputs": [],
   "source": []
  }
 ],
 "metadata": {
  "kernelspec": {
   "display_name": "Python 3 (ipykernel)",
   "language": "python",
   "name": "python3"
  },
  "language_info": {
   "codemirror_mode": {
    "name": "ipython",
    "version": 3
   },
   "file_extension": ".py",
   "mimetype": "text/x-python",
   "name": "python",
   "nbconvert_exporter": "python",
   "pygments_lexer": "ipython3",
   "version": "3.10.8"
  }
 },
 "nbformat": 4,
 "nbformat_minor": 5
}
